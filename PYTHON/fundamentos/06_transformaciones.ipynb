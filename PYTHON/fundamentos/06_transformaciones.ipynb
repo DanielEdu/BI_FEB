{
 "cells": [
  {
   "cell_type": "code",
   "execution_count": 2,
   "metadata": {},
   "outputs": [
    {
     "name": "stdout",
     "output_type": "stream",
     "text": [
      "<class 'str'>\n",
      "<class 'int'>\n",
      "<class 'bool'>\n"
     ]
    }
   ],
   "source": [
    "# Cambio dinamico de variable, cambio de tipado\n",
    "name = \"Daniel\"\n",
    "print(type(name))\n",
    "\n",
    "name = 33\n",
    "print(type(name))\n",
    "\n",
    "name = True\n",
    "print(type(name))"
   ]
  },
  {
   "cell_type": "code",
   "execution_count": 6,
   "metadata": {},
   "outputs": [
    {
     "name": "stdout",
     "output_type": "stream",
     "text": [
      "Daniel Portugal\n",
      "34\n",
      "Daniel 33\n"
     ]
    }
   ],
   "source": [
    "#Concatenar \n",
    "print( \"Daniel\" + \" Portugal\")\n",
    "age = 33   #int\n",
    "one = 1\n",
    "print( age + one)\n",
    "print( \"Daniel \" + str(age))"
   ]
  },
  {
   "cell_type": "code",
   "execution_count": 13,
   "metadata": {},
   "outputs": [
    {
     "name": "stdout",
     "output_type": "stream",
     "text": [
      "True\n"
     ]
    },
    {
     "data": {
      "text/plain": [
       "str"
      ]
     },
     "execution_count": 13,
     "metadata": {},
     "output_type": "execute_result"
    }
   ],
   "source": [
    "variable = True\n",
    "resultado = str(variable)\n",
    "print(resultado)\n",
    "type(resultado)"
   ]
  },
  {
   "cell_type": "code",
   "execution_count": 22,
   "metadata": {},
   "outputs": [
    {
     "ename": "ValueError",
     "evalue": "invalid literal for int() with base 10: 'A3.14'",
     "output_type": "error",
     "traceback": [
      "\u001b[0;31m---------------------------------------------------------------------------\u001b[0m",
      "\u001b[0;31mValueError\u001b[0m                                Traceback (most recent call last)",
      "Cell \u001b[0;32mIn[22], line 3\u001b[0m\n\u001b[1;32m      1\u001b[0m \u001b[39m# Casteo de un número flotante a un número entero\u001b[39;00m\n\u001b[1;32m      2\u001b[0m a \u001b[39m=\u001b[39m \u001b[39m\"\u001b[39m\u001b[39mA3.14\u001b[39m\u001b[39m\"\u001b[39m  \u001b[39m# Flotante\u001b[39;00m\n\u001b[0;32m----> 3\u001b[0m b \u001b[39m=\u001b[39m \u001b[39mint\u001b[39;49m(a)  \u001b[39m# Entero\u001b[39;00m\n\u001b[1;32m      4\u001b[0m \u001b[39mprint\u001b[39m(b)  \u001b[39m# 5\u001b[39;00m\n",
      "\u001b[0;31mValueError\u001b[0m: invalid literal for int() with base 10: 'A3.14'"
     ]
    }
   ],
   "source": [
    "# Casteo de un número flotante a un número entero\n",
    "a = \"A3.14\"  # Flotante\n",
    "b = int(a)  # Entero\n",
    "print(b)  # 5\n"
   ]
  },
  {
   "cell_type": "code",
   "execution_count": 24,
   "metadata": {},
   "outputs": [
    {
     "name": "stdout",
     "output_type": "stream",
     "text": [
      "3.0\n"
     ]
    }
   ],
   "source": [
    "# Transformación de una cadena a un número flotante\n",
    "a = \"3\"  # Cadena\n",
    "b = float(a)  # Flotante\n",
    "print(b)  # 3.14"
   ]
  },
  {
   "cell_type": "code",
   "execution_count": 25,
   "metadata": {},
   "outputs": [
    {
     "name": "stdout",
     "output_type": "stream",
     "text": [
      "['H', 'o', 'l', 'a', ' ', 'M', 'u', 'n', 'd', 'o']\n"
     ]
    }
   ],
   "source": [
    "# Transformación de una cadena a una lista\n",
    "a = \"Hola Mundo\"  # Cadena\n",
    "b = list(a)  # Lista\n",
    "print(b)  # ['H', 'o', 'l', 'a', ' ', 'M', 'u', 'n', 'd', 'o']"
   ]
  },
  {
   "cell_type": "code",
   "execution_count": null,
   "metadata": {},
   "outputs": [],
   "source": []
  }
 ],
 "metadata": {
  "kernelspec": {
   "display_name": "Python 3",
   "language": "python",
   "name": "python3"
  },
  "language_info": {
   "codemirror_mode": {
    "name": "ipython",
    "version": 3
   },
   "file_extension": ".py",
   "mimetype": "text/x-python",
   "name": "python",
   "nbconvert_exporter": "python",
   "pygments_lexer": "ipython3",
   "version": "3.11.2"
  },
  "orig_nbformat": 4,
  "vscode": {
   "interpreter": {
    "hash": "b0fa6594d8f4cbf19f97940f81e996739fb7646882a419484c72d19e05852a7e"
   }
  }
 },
 "nbformat": 4,
 "nbformat_minor": 2
}
