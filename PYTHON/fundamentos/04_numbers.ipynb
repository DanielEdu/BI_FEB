{
 "cells": [
  {
   "attachments": {},
   "cell_type": "markdown",
   "metadata": {},
   "source": [
    "# Propiedades y ejemplos del tipo de dato numérico en Python\n",
    "\n",
    "Python soporta tres tipos numéricos incorporados: `int` (enteros), `float` (punto flotante) y `complex` (números complejos).\n",
    "\n",
    "Aquí hay algunas propiedades y ejemplos de los tipos de datos numéricos en Python:\n",
    "\n",
    "- Los `int` son números enteros positivos o negativos. Python proporciona operaciones aritméticas comunes como suma, resta, multiplicación y división para los int.\n",
    "\n",
    "- Los `float` son números decimales que se utilizan para representar números reales. También se proporcionan operaciones aritméticas para los float en Python.\n",
    "\n",
    "- Los `complex` son números que constan de una parte real y una parte imaginaria. Se pueden crear utilizando el sufijo \"j\" o \"J\" para indicar la parte imaginaria.\n",
    "\n",
    "- En Python, los números se pueden representar en diferentes bases, como decimal, binario, octal y hexadecimal. La función `int()` se puede utilizar para convertir una cadena de texto en un int en una base determinada."
   ]
  },
  {
   "cell_type": "code",
   "execution_count": 1,
   "metadata": {},
   "outputs": [],
   "source": [
    "# Enteros (int)\n",
    "x = 10\n",
    "y = -5\n",
    "suma = x + y\n",
    "resta = x - y\n",
    "multiplicacion = x * y\n",
    "division = x / y"
   ]
  },
  {
   "cell_type": "code",
   "execution_count": 2,
   "metadata": {},
   "outputs": [
    {
     "name": "stdout",
     "output_type": "stream",
     "text": [
      "5\n",
      "15\n",
      "-50\n",
      "-2.0\n"
     ]
    }
   ],
   "source": [
    "print(suma)\n",
    "print(resta)\n",
    "print(multiplicacion)\n",
    "print(division)"
   ]
  },
  {
   "cell_type": "code",
   "execution_count": 3,
   "metadata": {},
   "outputs": [
    {
     "name": "stdout",
     "output_type": "stream",
     "text": [
      "4\n"
     ]
    }
   ],
   "source": [
    "lives = 5\n",
    "lives = lives - 1\n",
    "print(lives)"
   ]
  },
  {
   "cell_type": "code",
   "execution_count": 4,
   "metadata": {},
   "outputs": [
    {
     "name": "stdout",
     "output_type": "stream",
     "text": [
      "3\n"
     ]
    }
   ],
   "source": [
    "lives -= 1\n",
    "print(lives)"
   ]
  },
  {
   "cell_type": "code",
   "execution_count": 5,
   "metadata": {},
   "outputs": [
    {
     "name": "stdout",
     "output_type": "stream",
     "text": [
      "4.0\n",
      "1.0\n",
      "3.75\n",
      "1.6666666666666667\n"
     ]
    }
   ],
   "source": [
    "# Punto flotante (float)\n",
    "a = 2.5\n",
    "b = 1.5\n",
    "suma_float = a + b\n",
    "resta_float = a - b\n",
    "multiplicacion_float = a * b\n",
    "division_float = a / b\n",
    "\n",
    "\n",
    "print(suma_float)\n",
    "print(resta_float)\n",
    "print(multiplicacion_float)\n",
    "print(division_float)"
   ]
  },
  {
   "cell_type": "code",
   "execution_count": 6,
   "metadata": {},
   "outputs": [
    {
     "name": "stdout",
     "output_type": "stream",
     "text": [
      "(6+5j)\n",
      "(-2+1j)\n",
      "(2+16j)\n"
     ]
    }
   ],
   "source": [
    "# Números complejos (complex)\n",
    "c = 2 + 3j\n",
    "d = 4 + 2j\n",
    "suma_complex = c + d\n",
    "resta_complex = c - d\n",
    "multiplicacion_complex = c * d\n",
    "\n",
    "print(suma_complex)\n",
    "print(resta_complex)\n",
    "print(multiplicacion_complex)"
   ]
  },
  {
   "cell_type": "code",
   "execution_count": 10,
   "metadata": {},
   "outputs": [
    {
     "name": "stdout",
     "output_type": "stream",
     "text": [
      "15\n",
      "10\n",
      "15\n"
     ]
    }
   ],
   "source": [
    "# Bases numéricas\n",
    "num_binario = int('1111', 2)  # convierte el binario '1010' en un entero (10)\n",
    "num_octal = int('12', 8)  # convierte el octal '12' en un entero (10)\n",
    "num_hexadecimal = int('F', 16)  # convierte el hexadecimal 'A' en un entero (10)\n",
    "\n",
    "\n",
    "print(num_binario)\n",
    "print(num_octal)\n",
    "print(num_hexadecimal)"
   ]
  },
  {
   "cell_type": "code",
   "execution_count": null,
   "metadata": {},
   "outputs": [],
   "source": []
  }
 ],
 "metadata": {
  "kernelspec": {
   "display_name": "Python 3",
   "language": "python",
   "name": "python3"
  },
  "language_info": {
   "codemirror_mode": {
    "name": "ipython",
    "version": 3
   },
   "file_extension": ".py",
   "mimetype": "text/x-python",
   "name": "python",
   "nbconvert_exporter": "python",
   "pygments_lexer": "ipython3",
   "version": "3.11.2"
  },
  "orig_nbformat": 4,
  "vscode": {
   "interpreter": {
    "hash": "b0fa6594d8f4cbf19f97940f81e996739fb7646882a419484c72d19e05852a7e"
   }
  }
 },
 "nbformat": 4,
 "nbformat_minor": 2
}
