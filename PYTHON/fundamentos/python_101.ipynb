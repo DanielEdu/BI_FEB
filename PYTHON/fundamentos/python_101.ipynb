{
 "cells": [
  {
   "cell_type": "code",
   "execution_count": 2,
   "metadata": {},
   "outputs": [
    {
     "name": "stdout",
     "output_type": "stream",
     "text": [
      "HOla Python!!!\n"
     ]
    }
   ],
   "source": [
    "print(\"HOla Python!!!\")"
   ]
  },
  {
   "cell_type": "code",
   "execution_count": 3,
   "metadata": {},
   "outputs": [
    {
     "name": "stdout",
     "output_type": "stream",
     "text": [
      "Hola , Python\n",
      "30\n"
     ]
    }
   ],
   "source": [
    "# Enteros (int): números enteros sin parte decimal. Por ejemplo\n",
    "\n",
    "x = 3\n",
    "y = 5\n",
    "edad = 30 \n",
    "\n",
    "print('Hola , Python' )\n",
    "\n",
    "print(edad)"
   ]
  },
  {
   "cell_type": "code",
   "execution_count": 4,
   "metadata": {},
   "outputs": [
    {
     "name": "stdout",
     "output_type": "stream",
     "text": [
      "El valor de PI =  3.1415\n",
      "<class 'float'>\n",
      "El valor de PI =  Soy PI\n",
      "<class 'str'>\n"
     ]
    }
   ],
   "source": [
    "# Flotantes (float): números con parte decimal. Por ejemplo:\n",
    "precio = 2.50\n",
    "pi = 3.1415\n",
    "\n",
    "print('El valor de PI = ', pi)\n",
    "print(type(pi))\n",
    "\n",
    "\n",
    "pi = \"Soy PI\" \n",
    "print('El valor de PI = ', pi)\n",
    "print(type(pi))"
   ]
  },
  {
   "cell_type": "code",
   "execution_count": 5,
   "metadata": {},
   "outputs": [
    {
     "name": "stdout",
     "output_type": "stream",
     "text": [
      "True\n",
      "<class 'bool'>\n"
     ]
    }
   ],
   "source": [
    "#Booleanos (bool): valores que pueden ser True o False. Por ejemplo:\n",
    "\n",
    "es_verdadero = True\n",
    "es_falso = False\n",
    "\n",
    "print(es_verdadero)\n",
    "print(type(es_verdadero))"
   ]
  },
  {
   "cell_type": "code",
   "execution_count": 6,
   "metadata": {},
   "outputs": [
    {
     "name": "stdout",
     "output_type": "stream",
     "text": [
      "Daniel Eduardo Portugal\n",
      "<class 'str'>\n"
     ]
    }
   ],
   "source": [
    "# Cadena de caracteres (str): una secuencia de caracteres entre comillas simples o dobles. Por ejemplo:\n",
    "first_name = \"Daniel Eduardo\"\n",
    "last_name = 'Portugal'\n",
    "\n",
    "print(first_name, last_name)\n",
    "print(type(first_name))"
   ]
  },
  {
   "cell_type": "code",
   "execution_count": 7,
   "metadata": {},
   "outputs": [
    {
     "name": "stdout",
     "output_type": "stream",
     "text": [
      "Nombre: Daniel Portugal\n",
      "edad: 30\n",
      "es_mayor_de_edad: True\n",
      "altura: 1.7\n"
     ]
    }
   ],
   "source": [
    "nombre = \"Daniel Portugal\"\n",
    "edad = 30\n",
    "es_mayor_de_edad = True\n",
    "altura = 1.70\n",
    "\n",
    "\n",
    "print(\"Nombre:\", nombre)\n",
    "print(\"edad:\", edad)\n",
    "print(\"es_mayor_de_edad:\", es_mayor_de_edad)\n",
    "print(\"altura:\", altura)"
   ]
  },
  {
   "cell_type": "code",
   "execution_count": null,
   "metadata": {},
   "outputs": [],
   "source": []
  }
 ],
 "metadata": {
  "kernelspec": {
   "display_name": "Python 3",
   "language": "python",
   "name": "python3"
  },
  "language_info": {
   "codemirror_mode": {
    "name": "ipython",
    "version": 3
   },
   "file_extension": ".py",
   "mimetype": "text/x-python",
   "name": "python",
   "nbconvert_exporter": "python",
   "pygments_lexer": "ipython3",
   "version": "3.10.10"
  },
  "orig_nbformat": 4,
  "vscode": {
   "interpreter": {
    "hash": "bd385fe162c5ca0c84973b7dd5c518456272446b2b64e67c2a69f949ca7a1754"
   }
  }
 },
 "nbformat": 4,
 "nbformat_minor": 2
}
