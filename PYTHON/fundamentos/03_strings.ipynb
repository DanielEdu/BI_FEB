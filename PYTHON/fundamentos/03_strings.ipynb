{
 "cells": [
  {
   "attachments": {},
   "cell_type": "markdown",
   "metadata": {},
   "source": [
    "# Trabajando con String\n",
    "\n",
    "El tipo de dato string en Python es una secuencia de caracteres que se utiliza para representar texto. \n",
    "Aquí hay algunas propiedades y ejemplos del tipo de dato string en Python:\n",
    "\n",
    "- Los string son inmutables, lo que significa que no se pueden cambiar una vez que se han creado. Si se desea cambiar un string, se debe crear un nuevo string.\n",
    "- Los string pueden contener letras, números, signos de puntuación y otros caracteres. Se pueden crear utilizando comillas simples ('') o dobles (\"\").\n",
    "- Los string se pueden concatenar (unir) utilizando el operador +. También se pueden repetir utilizando el operador *.\n",
    "- Los string se pueden acceder mediante índices y rebanadas (slicing). El primer carácter de un string tiene un índice de 0."
   ]
  },
  {
   "cell_type": "code",
   "execution_count": 2,
   "metadata": {},
   "outputs": [
    {
     "name": "stdout",
     "output_type": "stream",
     "text": [
      "Biemvendo Juan!\n",
      "Calle 123, Lima - Perú\n"
     ]
    }
   ],
   "source": [
    "mensaje = \"Hola mundo\"\n",
    "nombre = \"Juan\"\n",
    "direccion = 'Calle 123'\n",
    "\n",
    "\n",
    "# Concatenar strings\n",
    "saludo = \"Biemvendo \" + nombre + \"!\"\n",
    "direccion_completa = direccion + \", Lima - Perú\"\n",
    "\n",
    "print(saludo)\n",
    "print(direccion_completa)"
   ]
  },
  {
   "cell_type": "code",
   "execution_count": 10,
   "metadata": {},
   "outputs": [
    {
     "name": "stdout",
     "output_type": "stream",
     "text": [
      "Bienvenido Juan Perez! su direccion es: Calle s/n, Los onvidados 3ra etapa, tiene usa edad de: 35\n"
     ]
    }
   ],
   "source": [
    "mensaje = \"Hola, este es el curso de Python\"\n",
    "nombre = \"Juan Perez\"\n",
    "direccion = \"Calle s/n, Los onvidados 3ra etapa\"\n",
    "edad = 35\n",
    "\n",
    "\n",
    "# Concatenar strings\n",
    "saludo = f\"Bienvenido {nombre}! su direccion es: {direccion}, tiene usa edad de: {edad}\"\n",
    "\n",
    "print(saludo)"
   ]
  },
  {
   "cell_type": "code",
   "execution_count": 9,
   "metadata": {},
   "outputs": [
    {
     "name": "stdout",
     "output_type": "stream",
     "text": [
      "abc,abc,abc,abc,abc,abc,abc,abc,abc,abc,\n"
     ]
    }
   ],
   "source": [
    "# Repetir strings\n",
    "cadena_repetida = \"abc,\" * 10\n",
    "print(cadena_repetida)"
   ]
  },
  {
   "cell_type": "code",
   "execution_count": 19,
   "metadata": {},
   "outputs": [
    {
     "name": "stdout",
     "output_type": "stream",
     "text": [
      "Hola, este es el curso de Python\n"
     ]
    },
    {
     "data": {
      "text/plain": [
       "'n'"
      ]
     },
     "execution_count": 19,
     "metadata": {},
     "output_type": "execute_result"
    }
   ],
   "source": [
    "# Acceder a caracteres individuales\n",
    "print(mensaje)\n",
    "\n",
    "mensaje[-1]\n"
   ]
  },
  {
   "cell_type": "code",
   "execution_count": 21,
   "metadata": {},
   "outputs": [
    {
     "name": "stdout",
     "output_type": "stream",
     "text": [
      "Hola\n",
      " este es el curso de Python\n",
      "nohtyP ed osruc le se etse ,aloH\n"
     ]
    }
   ],
   "source": [
    "# Rebanadas (slicing)\n",
    "# [Hola, este es el curso de Python] \n",
    "subcadena = mensaje[0:4]  # \"Hola\"\n",
    "subcadena2 = mensaje[5:]  # \" este es el curso de Python\"\n",
    "subcadena3 = mensaje[::-1]  # \"nohtyP ed osruc le se etse ,aloH\"\n",
    "\n",
    "print(subcadena)\n",
    "print(subcadena2)\n",
    "print(subcadena3)"
   ]
  },
  {
   "attachments": {},
   "cell_type": "markdown",
   "metadata": {},
   "source": [
    "## F'string\n",
    "\n",
    "Las f-strings permiten incluir variables en una cadena de texto de una manera más legible y concisa que otros métodos de concatenación de strings. \n",
    "Las variables se colocan entre llaves \"{}\" dentro del string y se sustituyen por su valor real en tiempo de ejecución.\n"
   ]
  },
  {
   "cell_type": "code",
   "execution_count": 22,
   "metadata": {},
   "outputs": [
    {
     "name": "stdout",
     "output_type": "stream",
     "text": [
      "Hola, mi nombre es Juan, tengo 25 años y mido 1.75 metros.\n"
     ]
    }
   ],
   "source": [
    "nombre = \"Juan\"\n",
    "edad = 25\n",
    "altura = 1.75\n",
    "\n",
    "\n",
    "# Interpolación de variables en una cadena de texto\n",
    "mensaje = f\"Hola, mi nombre es {nombre}, tengo {edad} años y mido {altura} metros.\"\n",
    "print(mensaje)"
   ]
  },
  {
   "cell_type": "code",
   "execution_count": 23,
   "metadata": {},
   "outputs": [
    {
     "name": "stdout",
     "output_type": "stream",
     "text": [
      "La suma de 2 y 3 es 5.\n"
     ]
    }
   ],
   "source": [
    "# Cálculos en f-strings\n",
    "a = 2\n",
    "b = 3\n",
    "resultado = f\"La suma de {a} y {b} es {a+b}.\"\n",
    "\n",
    "print(resultado)"
   ]
  },
  {
   "cell_type": "code",
   "execution_count": 24,
   "metadata": {},
   "outputs": [
    {
     "name": "stdout",
     "output_type": "stream",
     "text": [
      "Mi nombre en mayúsculas es JUAN\n"
     ]
    }
   ],
   "source": [
    "# Uso de métodos en f-strings\n",
    "mensaje2 = f\"Mi nombre en mayúsculas es {nombre.upper()}\"\n",
    "\n",
    "print(mensaje2)"
   ]
  },
  {
   "cell_type": "code",
   "execution_count": null,
   "metadata": {},
   "outputs": [],
   "source": []
  }
 ],
 "metadata": {
  "kernelspec": {
   "display_name": "Python 3",
   "language": "python",
   "name": "python3"
  },
  "language_info": {
   "codemirror_mode": {
    "name": "ipython",
    "version": 3
   },
   "file_extension": ".py",
   "mimetype": "text/x-python",
   "name": "python",
   "nbconvert_exporter": "python",
   "pygments_lexer": "ipython3",
   "version": "3.11.2"
  },
  "orig_nbformat": 4,
  "vscode": {
   "interpreter": {
    "hash": "b0fa6594d8f4cbf19f97940f81e996739fb7646882a419484c72d19e05852a7e"
   }
  }
 },
 "nbformat": 4,
 "nbformat_minor": 2
}
