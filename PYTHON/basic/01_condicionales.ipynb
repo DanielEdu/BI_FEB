{
 "cells": [
  {
   "attachments": {},
   "cell_type": "markdown",
   "metadata": {},
   "source": [
    "# Condicionales\n",
    "\n",
    "Las condicionales en Python son estructuras de control de flujo que permiten que un programa tome decisiones basadas en ciertas condiciones. Las condicionales se utilizan para ejecutar un bloque de código si se cumple una condición determinada, y ejecutar otro bloque de código si no se cumple.\n",
    "\n",
    "En Python, las condicionales se implementan mediante la instrucción `if`. La sintaxis básica de una instrucción if es la siguiente:\n",
    "\n",
    "\n",
    "```python\n",
    "if condición:\n",
    "    bloque de código a ejecutar si la condición es verdadera\n",
    "else:\n",
    "    bloque de código a ejecutar si la condición es falsa\n",
    "\n",
    "```"
   ]
  },
  {
   "cell_type": "code",
   "execution_count": 2,
   "metadata": {},
   "outputs": [
    {
     "name": "stdout",
     "output_type": "stream",
     "text": [
      "Estas fuera del IF\n"
     ]
    }
   ],
   "source": [
    "# IF \n",
    "\n",
    "edad = 18\n",
    "\n",
    "if edad-1 >= 18:\n",
    "    print(\"Eres mayor de edad\")\n",
    "    print(\"Esto está detro del IF\")\n",
    "\n",
    "print(\"Estas fuera del IF\")"
   ]
  },
  {
   "cell_type": "code",
   "execution_count": 3,
   "metadata": {},
   "outputs": [
    {
     "name": "stdout",
     "output_type": "stream",
     "text": [
      "Eres menor de edad\n"
     ]
    }
   ],
   "source": [
    "#if else\n",
    "edad = 15\n",
    "\n",
    "if edad >= 18:\n",
    "    print(\"Eres mayor de edad\")\n",
    "else:\n",
    "    print(\"Eres menor de edad\")"
   ]
  },
  {
   "cell_type": "code",
   "execution_count": 7,
   "metadata": {},
   "outputs": [
    {
     "name": "stdout",
     "output_type": "stream",
     "text": [
      "Tu calificación es B\n"
     ]
    }
   ],
   "source": [
    "# if-elif-else:\n",
    "puntaje = 80\n",
    "\n",
    "if puntaje >= 90:\n",
    "    print(\"Tu calificación es A\")\n",
    "elif puntaje >= 80:\n",
    "    print(\"Tu calificación es B\")\n",
    "elif puntaje >= 70:\n",
    "    print(\"Tu calificación es C\")\n",
    "else:\n",
    "    print(\"Tu calificación es F\")\n",
    "\n"
   ]
  },
  {
   "attachments": {},
   "cell_type": "markdown",
   "metadata": {},
   "source": [
    "## Operador Ternario\n",
    "En Python también se pueden utilizar expresiones condicionales, conocidas como \"operador ternario\". La sintaxis básica es la siguiente:\n",
    "```python\n",
    "valor_verdadero if condición else valor_falso\n",
    "```\n",
    "\n",
    "Este operador evalúa primero la condición y si es verdadera devuelve el valor_verdadero. De lo contrario, devuelve el valor_falso."
   ]
  },
  {
   "cell_type": "code",
   "execution_count": 26,
   "metadata": {},
   "outputs": [
    {
     "name": "stdout",
     "output_type": "stream",
     "text": [
      "menor de edad\n"
     ]
    }
   ],
   "source": [
    "edad = 15\n",
    "estado = \"mayor de edad\" if edad >= 18 else \"menor de edad\"\n",
    "print(estado) # muestra \"mayor de edad\"\n"
   ]
  },
  {
   "cell_type": "code",
   "execution_count": 27,
   "metadata": {},
   "outputs": [
    {
     "name": "stdout",
     "output_type": "stream",
     "text": [
      "y es mayor o igual que x\n"
     ]
    }
   ],
   "source": [
    "x = 5\n",
    "y = 10\n",
    "resultado = \"x es mayor que y\" if x > y else \"y es mayor o igual que x\"\n",
    "print(resultado) # muestra \"y es mayor o igual que x\"\n"
   ]
  },
  {
   "cell_type": "code",
   "execution_count": 30,
   "metadata": {},
   "outputs": [
    {
     "name": "stdout",
     "output_type": "stream",
     "text": [
      "15\n"
     ]
    }
   ],
   "source": [
    "valor = 15\n",
    "resultado = valor if valor is not None else 1\n",
    "print(resultado) # muestra 0\n"
   ]
  },
  {
   "attachments": {},
   "cell_type": "markdown",
   "metadata": {},
   "source": [
    "## Ejercicio"
   ]
  },
  {
   "cell_type": "code",
   "execution_count": 17,
   "metadata": {},
   "outputs": [
    {
     "name": "stdout",
     "output_type": "stream",
     "text": [
      "Es Negativo\n"
     ]
    }
   ],
   "source": [
    "\n",
    "# El numero es positivo o negativo ?\n",
    "\n",
    "numero = int(input(\"ingresar numero: ... \"))\n",
    "\n",
    "\n",
    "if numero > 0:\n",
    "    print(\"Es Positivo\")\n",
    "elif numero < 0:\n",
    "    print(\"Es Negativo\")\n",
    "else:\n",
    "    print(\"Es cero!!!! \")"
   ]
  },
  {
   "cell_type": "code",
   "execution_count": 19,
   "metadata": {},
   "outputs": [
    {
     "name": "stdout",
     "output_type": "stream",
     "text": [
      "La nota equivalente es: F\n"
     ]
    }
   ],
   "source": [
    "#idetificar la nota\n",
    "calificacion = int(input(\"Ingrese la calificación: \"))\n",
    "\n",
    "if calificacion >= 90:\n",
    "    nota = \"A\"\n",
    "elif calificacion >= 80:\n",
    "    nota = \"B\"\n",
    "elif calificacion >= 70:\n",
    "    nota = \"C\"\n",
    "elif calificacion >= 60:\n",
    "    nota = \"D\"\n",
    "else:\n",
    "    nota = \"F\"\n",
    "\n",
    "print(\"La nota equivalente es:\", nota)"
   ]
  },
  {
   "cell_type": "code",
   "execution_count": 23,
   "metadata": {},
   "outputs": [
    {
     "name": "stdout",
     "output_type": "stream",
     "text": [
      "el número 0 es par\n"
     ]
    }
   ],
   "source": [
    "# TODO: identificar si un numero es par o impar\n",
    "numero = int(input(\"Ingrese un número: \"))\n",
    "\n",
    "if numero % 2 == 0:\n",
    "    print(f\"el número {numero} es par\")\n",
    "else:\n",
    "    print(f\"el número {numero} es impar\")"
   ]
  },
  {
   "cell_type": "code",
   "execution_count": null,
   "metadata": {},
   "outputs": [],
   "source": []
  }
 ],
 "metadata": {
  "kernelspec": {
   "display_name": "Python 3",
   "language": "python",
   "name": "python3"
  },
  "language_info": {
   "codemirror_mode": {
    "name": "ipython",
    "version": 3
   },
   "file_extension": ".py",
   "mimetype": "text/x-python",
   "name": "python",
   "nbconvert_exporter": "python",
   "pygments_lexer": "ipython3",
   "version": "3.11.2 (main, Feb 16 2023, 02:51:42) [Clang 14.0.0 (clang-1400.0.29.202)]"
  },
  "orig_nbformat": 4,
  "vscode": {
   "interpreter": {
    "hash": "b0fa6594d8f4cbf19f97940f81e996739fb7646882a419484c72d19e05852a7e"
   }
  }
 },
 "nbformat": 4,
 "nbformat_minor": 2
}
