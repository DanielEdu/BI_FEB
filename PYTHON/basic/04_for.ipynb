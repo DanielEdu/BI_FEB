{
 "cells": [
  {
   "attachments": {},
   "cell_type": "markdown",
   "metadata": {},
   "source": [
    "En Python, el bucle `for` se utiliza para iterar sobre una secuencia (como una lista, una tupla o un diccionario) \n",
    "o sobre cualquier otro objeto iterable. El bucle for itera sobre cada elemento \n",
    "de la secuencia y ejecuta el bloque de código correspondiente para cada elemento.\n",
    "\n",
    "```python\n",
    "for variable in secuencia:\n",
    "    # Bloque de código a ejecutar para cada elemento de la secuencia\\\n",
    "```"
   ]
  },
  {
   "cell_type": "code",
   "execution_count": 1,
   "metadata": {},
   "outputs": [
    {
     "name": "stdout",
     "output_type": "stream",
     "text": [
      "manzana\n",
      "banana\n",
      "naranja\n",
      "kiwi\n"
     ]
    }
   ],
   "source": [
    "#  imprimir cada elemento de una lista, podemos usar el bucle for de la siguiente manera:\n",
    "\n",
    "frutas = ['manzana', 'banana', 'naranja', 'kiwi']\n",
    "for fruta in frutas:\n",
    "    print(fruta)"
   ]
  },
  {
   "cell_type": "code",
   "execution_count": 8,
   "metadata": {},
   "outputs": [
    {
     "name": "stdout",
     "output_type": "stream",
     "text": [
      "2\n",
      "5\n",
      "8\n"
     ]
    }
   ],
   "source": [
    "# podemos utilizar la función range() para crear una secuencia de números enteros y utilizar el bucle for para iterar sobre ellos:\n",
    "for i in range(2, 10, 3):\n",
    "    print(i)"
   ]
  },
  {
   "cell_type": "code",
   "execution_count": 10,
   "metadata": {},
   "outputs": [
    {
     "name": "stdout",
     "output_type": "stream",
     "text": [
      "La fruta manzana cuesta 1.5 euros\n",
      "La fruta banana cuesta 0.5 euros\n",
      "La fruta naranja cuesta 1.0 euros\n",
      "La fruta kiwi cuesta 2.0 euros\n"
     ]
    }
   ],
   "source": [
    "#recorrer y manipular los elementos de un diccionario:\n",
    "frutas = {'manzana': 1.5, 'banana': 0.5, 'naranja': 1.0, 'kiwi': 2.0}\n",
    "for fruta, precio in frutas.items():\n",
    "    print(f'La fruta {fruta} cuesta {precio} euros')\n"
   ]
  },
  {
   "attachments": {},
   "cell_type": "markdown",
   "metadata": {},
   "source": [
    "## ejercicios"
   ]
  },
  {
   "cell_type": "code",
   "execution_count": 11,
   "metadata": {},
   "outputs": [
    {
     "name": "stdout",
     "output_type": "stream",
     "text": [
      "0\n",
      "2\n",
      "4\n",
      "6\n",
      "8\n",
      "10\n"
     ]
    }
   ],
   "source": [
    "# 1. ejemplo, si queremos imprimir los números pares del 0 al 10, podemos hacer lo siguiente:\n",
    "\n",
    "for x in range(0,11):\n",
    "    if x % 2 == 0:\n",
    "        print(x)"
   ]
  },
  {
   "cell_type": "code",
   "execution_count": 12,
   "metadata": {},
   "outputs": [
    {
     "name": "stdout",
     "output_type": "stream",
     "text": [
      "1\n",
      "3\n",
      "5\n",
      "7\n",
      "9\n"
     ]
    }
   ],
   "source": [
    "#2. ejemplo, si queremos imprimir los números impares del 0 al 10, podemos hacer lo siguiente:\n",
    "for i in range(0, 11):\n",
    "    if i % 2 != 0:\n",
    "        print(i)"
   ]
  },
  {
   "cell_type": "code",
   "execution_count": 13,
   "metadata": {},
   "outputs": [
    {
     "name": "stdout",
     "output_type": "stream",
     "text": [
      "Hay None números impares en el rango\n"
     ]
    }
   ],
   "source": [
    "# 2. [TODO]Contar los números impares en un rango del 1 al 50\n",
    "contador = None\n",
    "print(\"Hay\", contador, \"números impares en el rango\")"
   ]
  },
  {
   "cell_type": "code",
   "execution_count": 14,
   "metadata": {},
   "outputs": [
    {
     "name": "stdout",
     "output_type": "stream",
     "text": [
      "[]\n"
     ]
    }
   ],
   "source": [
    "# 4. [TODO] Agrega solo los números positivos de la lista my_list a la lista new_list\n",
    "my_list = [1, -1, 2, -2, 3, -3, 4, -4]\n",
    "new_list = []\n",
    "\n",
    "\n",
    "\n",
    "print(new_list)"
   ]
  },
  {
   "cell_type": "code",
   "execution_count": null,
   "metadata": {},
   "outputs": [],
   "source": []
  }
 ],
 "metadata": {
  "kernelspec": {
   "display_name": "Python 3",
   "language": "python",
   "name": "python3"
  },
  "language_info": {
   "codemirror_mode": {
    "name": "ipython",
    "version": 3
   },
   "file_extension": ".py",
   "mimetype": "text/x-python",
   "name": "python",
   "nbconvert_exporter": "python",
   "pygments_lexer": "ipython3",
   "version": "3.11.2 (main, Feb 16 2023, 02:51:42) [Clang 14.0.0 (clang-1400.0.29.202)]"
  },
  "orig_nbformat": 4,
  "vscode": {
   "interpreter": {
    "hash": "b0fa6594d8f4cbf19f97940f81e996739fb7646882a419484c72d19e05852a7e"
   }
  }
 },
 "nbformat": 4,
 "nbformat_minor": 2
}
