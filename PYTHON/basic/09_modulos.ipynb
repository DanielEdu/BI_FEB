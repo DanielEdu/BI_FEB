{
 "cells": [
  {
   "attachments": {},
   "cell_type": "markdown",
   "metadata": {},
   "source": [
    "# Modulos\n",
    "\n",
    "En Python, un módulo es un archivo que contiene definiciones y declaraciones de Python \n",
    "que se pueden utilizar en otros programas. Los módulos permiten organizar y reutilizar el \n",
    "código de manera eficiente, ya que agrupan funcionalidades relacionadas en un solo archivo.\n",
    "\n",
    "Existen módulos estándar de Python que vienen incluidos con la instalación de Python, así como \n",
    "también módulos de terceros que se pueden instalar y utilizar.\n",
    "\n",
    "Para utilizar un módulo en Python, primero debes importarlo en tu programa utilizando la declaración \n",
    "import. Aquí hay algunos ejemplos de módulos comunes y cómo utilizarlos:"
   ]
  },
  {
   "cell_type": "code",
   "execution_count": 1,
   "metadata": {},
   "outputs": [],
   "source": [
    "#Módulo math:\n",
    "#El módulo math proporciona funciones matemáticas y constantes útiles.\n",
    "import math\n",
    "\n"
   ]
  },
  {
   "cell_type": "code",
   "execution_count": 2,
   "metadata": {},
   "outputs": [
    {
     "name": "stdout",
     "output_type": "stream",
     "text": [
      "3.141592653589793\n"
     ]
    }
   ],
   "source": [
    "# Ejemplo 1: Obtener el valor de Pi\n",
    "print(math.pi)  # Output: 3.141592653589793"
   ]
  },
  {
   "cell_type": "code",
   "execution_count": 3,
   "metadata": {},
   "outputs": [
    {
     "name": "stdout",
     "output_type": "stream",
     "text": [
      "4.0\n"
     ]
    }
   ],
   "source": [
    "# Ejemplo 2: Calcular la raíz cuadrada\n",
    "raiz_cuadrada = math.sqrt(16)\n",
    "print(raiz_cuadrada)  # Output: 4.0"
   ]
  },
  {
   "cell_type": "code",
   "execution_count": 4,
   "metadata": {},
   "outputs": [
    {
     "name": "stdout",
     "output_type": "stream",
     "text": [
      "0.7071067811865475\n"
     ]
    }
   ],
   "source": [
    "# Ejemplo 3: Calcular el seno de un ángulo en radianes\n",
    "angulo = math.radians(45)\n",
    "seno = math.sin(angulo)\n",
    "print(seno)  # Output: 0.7071067811865476"
   ]
  },
  {
   "cell_type": "code",
   "execution_count": 5,
   "metadata": {},
   "outputs": [],
   "source": [
    "#2.Módulo random:\n",
    "#El módulo random se utiliza para generar números aleatorios.\n",
    "import random"
   ]
  },
  {
   "cell_type": "code",
   "execution_count": 7,
   "metadata": {},
   "outputs": [
    {
     "name": "stdout",
     "output_type": "stream",
     "text": [
      "402\n"
     ]
    }
   ],
   "source": [
    "# Ejemplo 1: Generar un número entero aleatorio entre 1 y 10\n",
    "numero_aleatorio = random.randint(1, 1000)\n",
    "print(numero_aleatorio)  # Output: número aleatorio entre 1 y 10"
   ]
  },
  {
   "cell_type": "code",
   "execution_count": 9,
   "metadata": {},
   "outputs": [
    {
     "name": "stdout",
     "output_type": "stream",
     "text": [
      "naranja\n"
     ]
    }
   ],
   "source": [
    "# Ejemplo 2: Obtener un elemento aleatorio de una lista\n",
    "frutas = [\"manzana\", \"banana\", \"naranja\", \"uva\"]\n",
    "fruta_aleatoria = random.choice(frutas)\n",
    "print(fruta_aleatoria)  # Output: un elemento aleatorio de la lista"
   ]
  },
  {
   "cell_type": "code",
   "execution_count": 10,
   "metadata": {},
   "outputs": [],
   "source": [
    "# 3.Módulo datetime:\n",
    "# El módulo datetime se utiliza para trabajar con fechas y tiempos.\n",
    "import datetime"
   ]
  },
  {
   "cell_type": "code",
   "execution_count": 11,
   "metadata": {},
   "outputs": [
    {
     "name": "stdout",
     "output_type": "stream",
     "text": [
      "2023-05-20 10:53:27.090808\n"
     ]
    }
   ],
   "source": [
    "# Ejemplo 1: Obtener la fecha y hora actual\n",
    "fecha_actual = datetime.datetime.now()\n",
    "print(fecha_actual)  # Output: fecha y hora actual"
   ]
  },
  {
   "cell_type": "code",
   "execution_count": 12,
   "metadata": {},
   "outputs": [
    {
     "name": "stdout",
     "output_type": "stream",
     "text": [
      "2023-05-15 00:00:00\n"
     ]
    }
   ],
   "source": [
    "# Ejemplo 2: Crear una fecha específica\n",
    "fecha_especifica = datetime.datetime(2023, 5, 15)\n",
    "print(fecha_especifica)  # Output: 2023-05-15 00:00:00"
   ]
  },
  {
   "cell_type": "code",
   "execution_count": 13,
   "metadata": {},
   "outputs": [],
   "source": [
    "# 4. Módulo os:\n",
    "# El módulo os proporciona funciones para interactuar con el sistema operativo, como manipular archivos y directorios.\n",
    "import os"
   ]
  },
  {
   "cell_type": "code",
   "execution_count": 14,
   "metadata": {},
   "outputs": [
    {
     "name": "stdout",
     "output_type": "stream",
     "text": [
      "/Users/daniel.portugal/Projects/CursoBI/PYTHON/basic\n"
     ]
    }
   ],
   "source": [
    "# Ejemplo 1: Obtener el directorio de trabajo actual\n",
    "directorio_actual = os.getcwd()\n",
    "print(directorio_actual)  # Output: Directorio actual"
   ]
  },
  {
   "cell_type": "code",
   "execution_count": 15,
   "metadata": {},
   "outputs": [],
   "source": [
    "# Ejemplo 2: Crear un nuevo directorio\n",
    "nuevo_directorio = \"nuevo_directorio\"\n",
    "os.mkdir(nuevo_directorio)"
   ]
  },
  {
   "cell_type": "code",
   "execution_count": 16,
   "metadata": {},
   "outputs": [],
   "source": [
    "# 5. Módulo json:\n",
    "# El módulo json se utiliza para trabajar con datos en formato JSON (JavaScript Object Notation).\n",
    "import json"
   ]
  },
  {
   "cell_type": "code",
   "execution_count": 20,
   "metadata": {},
   "outputs": [
    {
     "name": "stdout",
     "output_type": "stream",
     "text": [
      "{\"nombre\": \"Juan\", \"edad\": 30, \"ciudad\": \"M\\u00e9xico\"}\n",
      "<class 'str'>\n"
     ]
    }
   ],
   "source": [
    "# Ejemplo 1: Convertir un objeto Python a JSON\n",
    "datos = {\n",
    "    \"nombre\": \"Juan\",\n",
    "    \"edad\": 30,\n",
    "    \"ciudad\": \"México\"\n",
    "}\n",
    "\n",
    "json_string = json.dumps(datos)\n",
    "\n",
    "print(json_string)  # Output: {\"nombre\": \"Juan\", \"edad\": 30, \"ciudad\": \"México\"}\n",
    "print(type(json_string))\n"
   ]
  },
  {
   "cell_type": "code",
   "execution_count": 22,
   "metadata": {},
   "outputs": [
    {
     "name": "stdout",
     "output_type": "stream",
     "text": [
      "<class 'dict'>\n"
     ]
    }
   ],
   "source": [
    "# Ejemplo 2: Leer y analizar datos JSON desde un archivo\n",
    "archivo = \"datos.json\"\n",
    "with open(archivo) as f:\n",
    "    datos_json = json.load(f)\n",
    "print(type(datos_json))  # Output: datos JSON cargados como un objeto Python\n",
    "\n"
   ]
  },
  {
   "cell_type": "code",
   "execution_count": 1,
   "metadata": {},
   "outputs": [],
   "source": [
    "# 6. Módulo requests:\n",
    "# El módulo requests permite enviar solicitudes HTTP y trabajar con respuestas de servidores web.\n",
    "import requests "
   ]
  },
  {
   "cell_type": "code",
   "execution_count": 2,
   "metadata": {},
   "outputs": [
    {
     "name": "stdout",
     "output_type": "stream",
     "text": [
      "200\n",
      "<!doctype html><html data-adblockkey=\"MFwwDQYJKoZIhvcNAQEBBQADSwAwSAJBANDrp2lz7AOmADaN8tA50LsWcjLFyQFcb/P2Txc58oYOeILb3vBw7J6f4pamkAQVSQuqYsKx3YzdUHCvbVZvFUsCAwEAAQ==_wS1r9rlW1M8bXpMfqpg1CwAOtroFGNUuiD+lUeBt9p6tVomxQXdiO0/KSb9sPVDF8ZLtS9BWD90yrUu/vI4daQ==\"><head><meta charset=\"utf-8\"><meta name=\"viewport\" content=\"width=device-width, initial-scale=1\"><link rel=\"preconnect\" href=\"https://www.google.com\" crossorigin></head><body><div id=\"target\" style='opacity: 0'></div><script>window.park = \"eyJ1dWlkIjoiYzVjM2NhYjEtNWY0Ni01YjU2LTUwMmUtZmRkMDRmMjM3MzE2IiwicGFnZV90aW1lIjoxNjg0NTk4NDI5LCJwYWdlX3VybCI6Imh0dHBzOlwvXC93d3cuZWplbXBsby5jb21cLyIsInBhZ2VfbWV0aG9kIjoiR0VUIiwicGFnZV9yZXF1ZXN0IjpbXSwicGFnZV9oZWFkZXJzIjpbXSwiaG9zdCI6Ind3dy5lamVtcGxvLmNvbSIsImlwIjoiMTkwLjIzOS4yMzguMTkzIn0=\";</script><script src=\"/js/parking.2.105.3.js\"></script></body></html>\n"
     ]
    }
   ],
   "source": [
    "# Ejemplo 1: Hacer una solicitud GET a una URL\n",
    "url = \"https://www.ejemplo.com\"\n",
    "respuesta = requests.get(url)\n",
    "print(respuesta.status_code)  # Output: código de estado de la respuesta\n",
    "print(respuesta.text)  # Output: contenido de la respuesta"
   ]
  },
  {
   "cell_type": "code",
   "execution_count": 3,
   "metadata": {},
   "outputs": [],
   "source": [
    "# Ejemplo: Obtener información de una API con solicitud GET\n",
    "url = \"https://api.coindesk.com/v1/bpi/currentprice/BTC.json\"\n",
    "respuesta = requests.get(url)\n",
    "datos = respuesta.json()"
   ]
  },
  {
   "cell_type": "code",
   "execution_count": 8,
   "metadata": {},
   "outputs": [
    {
     "data": {
      "text/plain": [
       "{'time': {'updated': 'May 20, 2023 16:00:00 UTC',\n",
       "  'updatedISO': '2023-05-20T16:00:00+00:00',\n",
       "  'updateduk': 'May 20, 2023 at 17:00 BST'},\n",
       " 'disclaimer': 'This data was produced from the CoinDesk Bitcoin Price Index (USD). Non-USD currency data converted using hourly conversion rate from openexchangerates.org',\n",
       " 'bpi': {'USD': {'code': 'USD',\n",
       "   'rate': '26,955.2426',\n",
       "   'description': 'United States Dollar',\n",
       "   'rate_float': 26955.2426},\n",
       "  'BTC': {'code': 'BTC',\n",
       "   'rate': '1.0000',\n",
       "   'description': 'Bitcoin',\n",
       "   'rate_float': 1}}}"
      ]
     },
     "execution_count": 8,
     "metadata": {},
     "output_type": "execute_result"
    }
   ],
   "source": [
    "datos"
   ]
  },
  {
   "cell_type": "code",
   "execution_count": 9,
   "metadata": {},
   "outputs": [
    {
     "name": "stdout",
     "output_type": "stream",
     "text": [
      "Precio de Bitcoin (USD): 26,955.2426\n"
     ]
    }
   ],
   "source": [
    "# Obtener el precio actual de Bitcoin en USD\n",
    "precio_usd = datos[\"bpi\"][\"USD\"][\"rate\"]\n",
    "print(\"Precio de Bitcoin (USD):\", precio_usd)"
   ]
  },
  {
   "cell_type": "code",
   "execution_count": 10,
   "metadata": {},
   "outputs": [
    {
     "name": "stdout",
     "output_type": "stream",
     "text": [
      "The Zen of Python, by Tim Peters\n",
      "\n",
      "Beautiful is better than ugly.\n",
      "Explicit is better than implicit.\n",
      "Simple is better than complex.\n",
      "Complex is better than complicated.\n",
      "Flat is better than nested.\n",
      "Sparse is better than dense.\n",
      "Readability counts.\n",
      "Special cases aren't special enough to break the rules.\n",
      "Although practicality beats purity.\n",
      "Errors should never pass silently.\n",
      "Unless explicitly silenced.\n",
      "In the face of ambiguity, refuse the temptation to guess.\n",
      "There should be one-- and preferably only one --obvious way to do it.\n",
      "Although that way may not be obvious at first unless you're Dutch.\n",
      "Now is better than never.\n",
      "Although never is often better than *right* now.\n",
      "If the implementation is hard to explain, it's a bad idea.\n",
      "If the implementation is easy to explain, it may be a good idea.\n",
      "Namespaces are one honking great idea -- let's do more of those!\n"
     ]
    }
   ],
   "source": [
    "import this"
   ]
  },
  {
   "cell_type": "code",
   "execution_count": null,
   "metadata": {},
   "outputs": [],
   "source": []
  },
  {
   "attachments": {},
   "cell_type": "markdown",
   "metadata": {},
   "source": [
    "``` text\n",
    "Hermoso es mejor que feo.\n",
    "Explícito es mejor que implícito.\n",
    "Simple es mejor que complejo.\n",
    "Complejo es mejor que complicado.\n",
    "Plano es mejor que anidado.\n",
    "Espaciado es mejor que denso.\n",
    "La legibilidad cuenta.\n",
    "Los casos especiales no son lo suficientemente especiales como para romper las reglas.\n",
    "Aunque lo práctico vence a la pureza.\n",
    "Los errores nunca deberían pasar silenciosamente.\n",
    "A menos que se silencien explícitamente.\n",
    "Frente a la ambigüedad, evitar la tentación de adivinar.\n",
    "Debería haber una, y preferiblemente solo una, manera obvia de hacerlo.\n",
    "Aunque esa manera puede no ser obvia al principio a menos que seas holandés.\n",
    "Ahora es mejor que nunca.\n",
    "Aunque nunca es a menudo mejor que *ahora* mismo.\n",
    "Si la implementación es difícil de explicar, es una mala idea.\n",
    "Si la implementación es fácil de explicar, puede que sea una buena idea.\n",
    "Los espacios de nombres son una gran idea, ¡hagamos más de eso!\n",
    "```"
   ]
  }
 ],
 "metadata": {
  "kernelspec": {
   "display_name": "Python 3",
   "language": "python",
   "name": "python3"
  },
  "language_info": {
   "codemirror_mode": {
    "name": "ipython",
    "version": 3
   },
   "file_extension": ".py",
   "mimetype": "text/x-python",
   "name": "python",
   "nbconvert_exporter": "python",
   "pygments_lexer": "ipython3",
   "version": "3.10.10"
  },
  "orig_nbformat": 4,
  "vscode": {
   "interpreter": {
    "hash": "bd385fe162c5ca0c84973b7dd5c518456272446b2b64e67c2a69f949ca7a1754"
   }
  }
 },
 "nbformat": 4,
 "nbformat_minor": 2
}
