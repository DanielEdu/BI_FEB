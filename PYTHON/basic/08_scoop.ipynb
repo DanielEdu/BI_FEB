{
 "cells": [
  {
   "attachments": {},
   "cell_type": "markdown",
   "metadata": {},
   "source": [
    "El alcance (scope) en Python se refiere a la visibilidad y accesibilidad de las variables \n",
    "dentro de un programa. El alcance determina en qué partes del código una variable es válida \n",
    "y se puede utilizar. \n",
    "\n",
    "En Python, hay dos tipos principales de alcance: el alcance global y el alcance local."
   ]
  },
  {
   "attachments": {},
   "cell_type": "markdown",
   "metadata": {},
   "source": [
    "1. Alcance global: Las variables definidas fuera de cualquier función tienen un alcance global. \n",
    "Estas variables son accesibles desde cualquier parte del programa, \n",
    "tanto dentro como fuera de las funciones."
   ]
  },
  {
   "cell_type": "code",
   "execution_count": 1,
   "metadata": {},
   "outputs": [
    {
     "name": "stdout",
     "output_type": "stream",
     "text": [
      "10\n",
      "10\n"
     ]
    }
   ],
   "source": [
    "variable_global = 10\n",
    "\n",
    "def funcion():\n",
    "    print(variable_global)  # Acceso a la variable global\n",
    "\n",
    "funcion()  # Output: 10\n",
    "print(variable_global)  # Output: 10"
   ]
  },
  {
   "cell_type": "code",
   "execution_count": 3,
   "metadata": {},
   "outputs": [
    {
     "name": "stdout",
     "output_type": "stream",
     "text": [
      "5\n"
     ]
    },
    {
     "ename": "NameError",
     "evalue": "name 'variable_local' is not defined",
     "output_type": "error",
     "traceback": [
      "\u001b[0;31m---------------------------------------------------------------------------\u001b[0m",
      "\u001b[0;31mNameError\u001b[0m                                 Traceback (most recent call last)",
      "Cell \u001b[0;32mIn[3], line 12\u001b[0m\n\u001b[1;32m      9\u001b[0m     \u001b[39mprint\u001b[39m(variable_local)  \u001b[39m# Acceso a la variable local\u001b[39;00m\n\u001b[1;32m     11\u001b[0m funcion()  \u001b[39m# Output: 5\u001b[39;00m\n\u001b[0;32m---> 12\u001b[0m \u001b[39mprint\u001b[39m(variable_local)  \u001b[39m# Error: NameError: name 'variable_local' is not defined\u001b[39;00m\n",
      "\u001b[0;31mNameError\u001b[0m: name 'variable_local' is not defined"
     ]
    }
   ],
   "source": [
    "\"\"\"\n",
    "2. Alcance local: Las variables definidas dentro de una función tienen un alcance local. \n",
    "Estas variables solo son accesibles dentro de la función en la que se definen y no están \n",
    "disponibles fuera de ella.\n",
    "\"\"\"\n",
    "\n",
    "def funcion():\n",
    "    variable_local = 5\n",
    "    print(variable_local)  # Acceso a la variable local\n",
    "\n",
    "funcion()  # Output: 5\n",
    "print(variable_local)  # Error: NameError: name 'variable_local' is not defined"
   ]
  },
  {
   "cell_type": "code",
   "execution_count": 4,
   "metadata": {},
   "outputs": [
    {
     "name": "stdout",
     "output_type": "stream",
     "text": [
      "5\n",
      "10\n"
     ]
    }
   ],
   "source": [
    "\"\"\"\n",
    "Es importante tener en cuenta que las variables locales y globales pueden tener el \n",
    "mismo nombre sin causar conflicto, ya que tienen alcances diferentes. Sin embargo, \n",
    "si se declara una variable local con el mismo nombre que una variable global, \n",
    "la variable local ocultará a la global dentro del alcance local.\n",
    "\"\"\"\n",
    "\n",
    "\n",
    "variable = 10  # Variable global\n",
    "\n",
    "def funcion():\n",
    "    variable = 5  # Variable local, oculta la variable global dentro de la función\n",
    "    print(variable)  # Acceso a la variable local\n",
    "\n",
    "funcion()  # Output: 5\n",
    "print(variable)  # Output: 10 (la variable global no se ve afectada)\n",
    "\n"
   ]
  },
  {
   "cell_type": "code",
   "execution_count": null,
   "metadata": {},
   "outputs": [],
   "source": []
  }
 ],
 "metadata": {
  "kernelspec": {
   "display_name": "Python 3",
   "language": "python",
   "name": "python3"
  },
  "language_info": {
   "codemirror_mode": {
    "name": "ipython",
    "version": 3
   },
   "file_extension": ".py",
   "mimetype": "text/x-python",
   "name": "python",
   "nbconvert_exporter": "python",
   "pygments_lexer": "ipython3",
   "version": "3.11.2"
  },
  "orig_nbformat": 4,
  "vscode": {
   "interpreter": {
    "hash": "b0fa6594d8f4cbf19f97940f81e996739fb7646882a419484c72d19e05852a7e"
   }
  }
 },
 "nbformat": 4,
 "nbformat_minor": 2
}
