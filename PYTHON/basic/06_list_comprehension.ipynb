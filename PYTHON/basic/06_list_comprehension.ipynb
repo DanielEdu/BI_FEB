{
 "cells": [
  {
   "attachments": {},
   "cell_type": "markdown",
   "metadata": {},
   "source": [
    "La comprensión de listas (list comprehension) en Python es una forma concisa y legible de crear listas nuevas basadas en secuencias existentes, \n",
    "como listas, tuplas o rangos. Se compone de una expresión, seguida de una cláusula for opcional y posiblemente más cláusulas for o if. \n",
    "La sintaxis básica de la comprensión de listas es la siguiente:\n",
    "\n",
    "`nueva_lista = [expresión for elemento in secuencia if condición]`\n",
    "\n",
    "Aquí hay una explicación de cada parte:\n",
    "\n",
    "nueva_lista: la lista resultante que se creará.\n",
    "\n",
    "expresión: una expresión que define cómo se transformará cada elemento de la secuencia original.\n",
    "\n",
    "elemento: una variable que representa cada elemento de la secuencia original.\n",
    "\n",
    "secuencia: la secuencia original de la cual se tomarán los elementos.\n",
    "\n",
    "condición (opcional): una condición que determina si se incluirá o no el elemento en la lista resultante.\n"
   ]
  },
  {
   "cell_type": "code",
   "execution_count": 1,
   "metadata": {},
   "outputs": [
    {
     "name": "stdout",
     "output_type": "stream",
     "text": [
      "[1, 2, 3, 4, 5, 6, 7, 8, 9]\n"
     ]
    }
   ],
   "source": [
    "my_list = []\n",
    "my_list = [n for n in range(1,10)]\n",
    "print(my_list)"
   ]
  },
  {
   "cell_type": "code",
   "execution_count": 2,
   "metadata": {},
   "outputs": [
    {
     "name": "stdout",
     "output_type": "stream",
     "text": [
      "1\n",
      "2\n",
      "3\n",
      "4\n",
      "5\n",
      "6\n",
      "7\n",
      "8\n",
      "9\n"
     ]
    }
   ],
   "source": [
    "for n in range(1,10):\n",
    "    print(n)"
   ]
  },
  {
   "cell_type": "code",
   "execution_count": 3,
   "metadata": {},
   "outputs": [
    {
     "name": "stdout",
     "output_type": "stream",
     "text": [
      "[1, 4, 9, 16, 25]\n"
     ]
    }
   ],
   "source": [
    "#Ejemplo 1: Crear una lista de cuadrados\n",
    "numeros = [1, 2, 3, 4, 5]\n",
    "cuadrados = [x**2 for x in numeros]\n",
    "print(cuadrados)  # Output: [1, 4, 9, 16, 25]"
   ]
  },
  {
   "cell_type": "code",
   "execution_count": 6,
   "metadata": {},
   "outputs": [
    {
     "name": "stdout",
     "output_type": "stream",
     "text": [
      "[16, 25]\n"
     ]
    }
   ],
   "source": [
    "#Ejemplo 1: Crear una lista de cuadrados\n",
    "numeros = [1, 2, 3, 4, 5]\n",
    "cuadrados = [x**2 for x in numeros if x > 3]\n",
    "print(cuadrados)"
   ]
  },
  {
   "cell_type": "code",
   "execution_count": 7,
   "metadata": {},
   "outputs": [
    {
     "name": "stdout",
     "output_type": "stream",
     "text": [
      "[2, 4, 6, 8, 10, 12, 14]\n"
     ]
    }
   ],
   "source": [
    "#TODO 2: Filtrar números pares\n",
    "numeros = [1, 2, 3, 4, 5, 6, 7, 8, 9, 10, 11, 12, 13, 14]\n",
    "\n",
    "pares = [x for x in numeros if x % 2 == 0]\n",
    "\n",
    "print(pares)  # Output: [2, 4, 6, 8, 10, 12, 14]"
   ]
  },
  {
   "cell_type": "code",
   "execution_count": 12,
   "metadata": {},
   "outputs": [
    {
     "name": "stdout",
     "output_type": "stream",
     "text": [
      "[{9, 1}, {9, 2}, {9, 3}, {9, 1}, {9, 2}, {9, 3}, {9, 1}, {9, 2}, {9, 3}]\n"
     ]
    }
   ],
   "source": [
    "#Ejemplo 3: Combinar elementos de dos listas\n",
    "letras = ['a', 'b', 'c']\n",
    "numeros = [1, 2, 3]\n",
    "combinacion = [{n, numero} for letra in letras for numero in numeros]\n",
    "print(combinacion)  # Output: [('a', 1), ('a', 2), ('a', 3), ('b', 1), ('b', 2), ('b', 3), ('c', 1), ('c', 2), ('c', 3)]\n"
   ]
  },
  {
   "cell_type": "code",
   "execution_count": 10,
   "metadata": {},
   "outputs": [
    {
     "data": {
      "text/plain": [
       "tuple"
      ]
     },
     "execution_count": 10,
     "metadata": {},
     "output_type": "execute_result"
    }
   ],
   "source": [
    "type(combinacion[1])"
   ]
  },
  {
   "cell_type": "code",
   "execution_count": null,
   "metadata": {},
   "outputs": [],
   "source": []
  }
 ],
 "metadata": {
  "kernelspec": {
   "display_name": "Python 3",
   "language": "python",
   "name": "python3"
  },
  "language_info": {
   "codemirror_mode": {
    "name": "ipython",
    "version": 3
   },
   "file_extension": ".py",
   "mimetype": "text/x-python",
   "name": "python",
   "nbconvert_exporter": "python",
   "pygments_lexer": "ipython3",
   "version": "3.11.2"
  },
  "orig_nbformat": 4,
  "vscode": {
   "interpreter": {
    "hash": "b0fa6594d8f4cbf19f97940f81e996739fb7646882a419484c72d19e05852a7e"
   }
  }
 },
 "nbformat": 4,
 "nbformat_minor": 2
}
