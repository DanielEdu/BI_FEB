{
 "cells": [
  {
   "attachments": {},
   "cell_type": "markdown",
   "metadata": {},
   "source": [
    "Un diccionario en Python es una estructura de datos que almacena pares de clave-valor. \n",
    "Las claves son únicas e inmutables, mientras que los valores pueden ser de cualquier tipo de dato en Python. \n",
    "Se define usando llaves {} y separando cada par clave-valor con una coma."
   ]
  },
  {
   "cell_type": "code",
   "execution_count": null,
   "metadata": {},
   "outputs": [],
   "source": [
    "# K-V\n",
    "# Key - Value\n",
    "# Llave - Valor\n",
    "# Un diccionario que almacena los nombres de frutas y sus precios:\n",
    "frutas = {\n",
    "    'manzana': 1.5, \n",
    "    'banana': 0.5, \n",
    "    'naranja': 1.0, \n",
    "    'kiwi': 2.0\n",
    "    }\n",
    "\n",
    "# Un diccionario que almacena la información de una persona, incluyendo su nombre, edad y ocupación:\n",
    "persona = {'nombre': 'Juan', 'edad': 30, 'ocupacion': 'programador'}\n",
    "\n",
    "#Un diccionario que almacena la información de una canción, incluyendo su título, artista, álbum y año de lanzamiento:\n",
    "cancion = {'titulo': 'Bohemian Rhapsody', 'artista': 'Queen', 'album': 'A Night at the Opera', 'lanzamiento': 1975}\n",
    "\n",
    "\n",
    "\n"
   ]
  },
  {
   "attachments": {},
   "cell_type": "markdown",
   "metadata": {},
   "source": [
    "Los diccionarios en Python permiten realizar diferentes operaciones para acceder, modificar y manipular los datos que contienen. \n",
    "Algunas de las operaciones comunes con diccionarios incluyen:"
   ]
  },
  {
   "cell_type": "code",
   "execution_count": 1,
   "metadata": {},
   "outputs": [
    {
     "name": "stdout",
     "output_type": "stream",
     "text": [
      "1.5\n"
     ]
    }
   ],
   "source": [
    "# Acceder a un valor a través de una clave:\n",
    "frutas = {'manzana': 1.5, 'banana': 0.5, 'naranja': 1.0, 'kiwi': 2.0}\n",
    "print(frutas['manzana']) # salida: 1.5"
   ]
  },
  {
   "cell_type": "code",
   "execution_count": 3,
   "metadata": {},
   "outputs": [
    {
     "name": "stdout",
     "output_type": "stream",
     "text": [
      "{'manzana': 2.1, 'banana': 0.5, 'naranja': 1.0, 'kiwi': 2.0}\n"
     ]
    }
   ],
   "source": [
    "#Modificar el valor asociado a una clave:\n",
    "frutas['manzana'] = 2.1\n",
    "print(frutas) # salida: {'manzana': 2.0, 'banana': 0.5, 'naranja': 1.0, 'kiwi': 2.0}\n"
   ]
  },
  {
   "cell_type": "code",
   "execution_count": 4,
   "metadata": {},
   "outputs": [
    {
     "name": "stdout",
     "output_type": "stream",
     "text": [
      "{'manzana': 2.1, 'banana': 0.5, 'naranja': 1.0, 'kiwi': 2.0, 'pera': 1.75}\n"
     ]
    }
   ],
   "source": [
    "# Añadir un nuevo par clave-valor al diccionario:\n",
    "frutas['pera'] = 1.75\n",
    "print(frutas) # salida: {'manzana': 2.0, 'banana': 0.5, 'naranja': 1.0, 'kiwi': 2.0, 'pera': 1.75}\n"
   ]
  },
  {
   "cell_type": "code",
   "execution_count": 7,
   "metadata": {},
   "outputs": [
    {
     "ename": "KeyError",
     "evalue": "'banana'",
     "output_type": "error",
     "traceback": [
      "\u001b[0;31m---------------------------------------------------------------------------\u001b[0m",
      "\u001b[0;31mKeyError\u001b[0m                                  Traceback (most recent call last)",
      "Cell \u001b[0;32mIn[7], line 2\u001b[0m\n\u001b[1;32m      1\u001b[0m \u001b[39m# Eliminar un par clave-valor del diccionario:\u001b[39;00m\n\u001b[0;32m----> 2\u001b[0m \u001b[39mdel\u001b[39;00m frutas[\u001b[39m'\u001b[39;49m\u001b[39mbanana\u001b[39;49m\u001b[39m'\u001b[39;49m]\n\u001b[1;32m      3\u001b[0m \u001b[39mprint\u001b[39m(frutas) \u001b[39m# salida: {'manzana': 2.0, 'naranja': 1.0, 'kiwi': 2.0, 'pera': 1.75}\u001b[39;00m\n",
      "\u001b[0;31mKeyError\u001b[0m: 'banana'"
     ]
    }
   ],
   "source": [
    "# Eliminar un par clave-valor del diccionario:\n",
    "del frutas['banana']\n",
    "print(frutas) # salida: {'manzana': 2.0, 'naranja': 1.0, 'kiwi': 2.0, 'pera': 1.75}\n",
    "\n"
   ]
  },
  {
   "cell_type": "code",
   "execution_count": 8,
   "metadata": {},
   "outputs": [
    {
     "name": "stdout",
     "output_type": "stream",
     "text": [
      "dict_keys(['manzana', 'naranja', 'kiwi', 'pera'])\n"
     ]
    }
   ],
   "source": [
    "#Obtener una lista de todas las claves del diccionario:\n",
    "claves = frutas.keys()\n",
    "print(claves) # salida: dict_keys(['manzana', 'naranja', 'kiwi', 'pera'])\n"
   ]
  },
  {
   "cell_type": "code",
   "execution_count": 9,
   "metadata": {},
   "outputs": [
    {
     "name": "stdout",
     "output_type": "stream",
     "text": [
      "dict_values([2.1, 1.0, 2.0, 1.75])\n"
     ]
    }
   ],
   "source": [
    "# Obtener una lista de todos los valores del diccionario:\n",
    "valores = frutas.values()\n",
    "print(valores) # salida: dict_values([2.0, 1.0, 2.0, 1.75])"
   ]
  },
  {
   "cell_type": "code",
   "execution_count": 10,
   "metadata": {},
   "outputs": [
    {
     "name": "stdout",
     "output_type": "stream",
     "text": [
      "No, no hay banana en el diccionario de frutas.\n"
     ]
    }
   ],
   "source": [
    "# Comprobar si una clave está presente en el diccionario:\n",
    "if 'banana' in frutas:\n",
    "    print('Sí, hay banana en el diccionario de frutas.')\n",
    "else:\n",
    "    print('No, no hay banana en el diccionario de frutas.')\n",
    "# salida: No, no hay banana en el diccionario de frutas."
   ]
  },
  {
   "cell_type": "code",
   "execution_count": 11,
   "metadata": {},
   "outputs": [
    {
     "name": "stdout",
     "output_type": "stream",
     "text": [
      "4\n"
     ]
    }
   ],
   "source": [
    "# Obtener la cantidad de pares clave-valor en el diccionario:\n",
    "cantidad = len(frutas)\n",
    "print(cantidad) # salida: 4"
   ]
  },
  {
   "cell_type": "code",
   "execution_count": null,
   "metadata": {},
   "outputs": [],
   "source": []
  }
 ],
 "metadata": {
  "kernelspec": {
   "display_name": "Python 3",
   "language": "python",
   "name": "python3"
  },
  "language_info": {
   "codemirror_mode": {
    "name": "ipython",
    "version": 3
   },
   "file_extension": ".py",
   "mimetype": "text/x-python",
   "name": "python",
   "nbconvert_exporter": "python",
   "pygments_lexer": "ipython3",
   "version": "3.11.2 (main, Feb 16 2023, 02:51:42) [Clang 14.0.0 (clang-1400.0.29.202)]"
  },
  "orig_nbformat": 4,
  "vscode": {
   "interpreter": {
    "hash": "b0fa6594d8f4cbf19f97940f81e996739fb7646882a419484c72d19e05852a7e"
   }
  }
 },
 "nbformat": 4,
 "nbformat_minor": 2
}
