{
 "cells": [
  {
   "attachments": {},
   "cell_type": "markdown",
   "metadata": {},
   "source": [
    "# Funciones\n",
    "\n",
    "Las funciones en Python son bloques de código reutilizable que realizan una tarea específica. \n",
    "\n",
    "Una función toma argumentos de entrada (opcionalmente) y devuelve un resultado (opcionalmente). \n",
    "\n",
    "Las funciones en Python se definen usando la palabra clave def, seguida del nombre de la función, paréntesis que pueden incluir argumentos \n",
    "de entrada separados por comas (opcional) y un bloque de código que realiza la tarea de la función. \n",
    "\n",
    "Las funciones pueden ser llamadas o invocadas en cualquier momento durante la ejecución del programa.\n"
   ]
  },
  {
   "cell_type": "code",
   "execution_count": 1,
   "metadata": {},
   "outputs": [],
   "source": [
    "\n",
    "def saludo():\n",
    "    print(\"HOLA!!!\")"
   ]
  },
  {
   "cell_type": "code",
   "execution_count": 2,
   "metadata": {},
   "outputs": [
    {
     "name": "stdout",
     "output_type": "stream",
     "text": [
      "HOLA!!!\n"
     ]
    }
   ],
   "source": [
    "saludo()"
   ]
  },
  {
   "cell_type": "code",
   "execution_count": 5,
   "metadata": {},
   "outputs": [],
   "source": [
    "def suma(a, b):\n",
    "    print(a+b)"
   ]
  },
  {
   "cell_type": "code",
   "execution_count": 6,
   "metadata": {},
   "outputs": [
    {
     "name": "stdout",
     "output_type": "stream",
     "text": [
      "11\n"
     ]
    }
   ],
   "source": [
    "suma(10,1)"
   ]
  },
  {
   "cell_type": "code",
   "execution_count": 7,
   "metadata": {},
   "outputs": [],
   "source": [
    "def suma(a, b):\n",
    "    resultado = a + b\n",
    "    return resultado"
   ]
  },
  {
   "cell_type": "code",
   "execution_count": 8,
   "metadata": {},
   "outputs": [
    {
     "name": "stdout",
     "output_type": "stream",
     "text": [
      "8\n"
     ]
    }
   ],
   "source": [
    "res = suma(1,7)\n",
    "print(res)"
   ]
  },
  {
   "cell_type": "code",
   "execution_count": 9,
   "metadata": {},
   "outputs": [],
   "source": [
    "#Ejemplo 2: Función para verificar si un número es par\n",
    "def es_par(numero):\n",
    "    if numero % 2 == 0:\n",
    "        return True\n",
    "    else:\n",
    "        return False"
   ]
  },
  {
   "cell_type": "code",
   "execution_count": 13,
   "metadata": {},
   "outputs": [
    {
     "name": "stdout",
     "output_type": "stream",
     "text": [
      "False\n"
     ]
    }
   ],
   "source": [
    "# Llamada a la función\n",
    "resultado = es_par(int(input(\"numero a verificar\")))\n",
    "print(resultado)  # Output: True"
   ]
  },
  {
   "attachments": {},
   "cell_type": "markdown",
   "metadata": {},
   "source": [
    "En Python, una función puede tener diferentes tipos de parámetros  que le permiten recibir argumentos de distintas formas.\n",
    "\n",
    "Los tipos de parámetros más comunes son los siguientes:\n",
    "\n"
   ]
  },
  {
   "attachments": {},
   "cell_type": "markdown",
   "metadata": {},
   "source": [
    "1. Parámetros posicionales: Son los parámetros que se definen en la función por su posición \n",
    "en la lista de parámetros. Los argumentos se asignan a estos \n",
    "parámetros en el mismo orden en el que se pasan durante la llamada a la función."
   ]
  },
  {
   "cell_type": "code",
   "execution_count": 14,
   "metadata": {},
   "outputs": [
    {
     "name": "stdout",
     "output_type": "stream",
     "text": [
      "Hola, Juan!\n"
     ]
    }
   ],
   "source": [
    "\n",
    "def saludar(nombre, saludo):\n",
    "    mensaje = f\"{saludo}, {nombre}!\"\n",
    "    print(mensaje)\n",
    "\n",
    "# Llamada a la función\n",
    "saludar(\"Juan\", \"Hola\")\n",
    "# Output: Hola, Juan!"
   ]
  },
  {
   "cell_type": "code",
   "execution_count": 17,
   "metadata": {},
   "outputs": [
    {
     "name": "stdout",
     "output_type": "stream",
     "text": [
      "Hola, Ana!\n"
     ]
    }
   ],
   "source": [
    "# 2 Parámetros con valor por defecto: Son parámetros que tienen un valor predeterminado asignado \n",
    "# en caso de que no se proporcione un argumento durante la llamada a la función.\n",
    "\n",
    "\n",
    "def saludar(nombre, saludo=\"Hola\"):\n",
    "    mensaje = f\"{saludo}, {nombre}!\"\n",
    "    print(mensaje)\n",
    "\n",
    "# Llamada a la función sin proporcionar el segundo argumento\n",
    "saludar(\"Ana\")\n",
    "# Output: Hola, Ana!"
   ]
  },
  {
   "cell_type": "code",
   "execution_count": 19,
   "metadata": {},
   "outputs": [
    {
     "name": "stdout",
     "output_type": "stream",
     "text": [
      "Hola, Carlos! tiene una edad de 15\n"
     ]
    }
   ],
   "source": [
    "\"\"\"\n",
    "3. Parámetros de palabras clave (keyword arguments): Son parámetros que se especifican durante \n",
    "la llamada a la función utilizando su nombre y un valor correspondiente.\n",
    "En este caso, los argumentos se pasan a la función utilizando sus nombres correspondientes. \n",
    "Esto permite especificar los argumentos en cualquier orden y mejora la legibilidad del código.\n",
    "\"\"\"\n",
    "\n",
    "def saludar(nombre, saludo, edad=15):\n",
    "    mensaje = f\"{saludo}, {nombre}! tiene una edad de {edad}\"\n",
    "    print(mensaje)\n",
    "\n",
    "# Llamada a la función con argumentos de palabras clave\n",
    "saludar(saludo=\"Hola\", nombre=\"Carlos\")\n",
    "# Output: Hola, Carlos!\n",
    "\n"
   ]
  },
  {
   "cell_type": "code",
   "execution_count": 20,
   "metadata": {},
   "outputs": [
    {
     "name": "stdout",
     "output_type": "stream",
     "text": [
      "10\n"
     ]
    }
   ],
   "source": [
    "\n",
    "#[TODO]Ejercicio: Función para encontrar el máximo de una lista\n",
    "\n",
    "def encontrar_maximo(lista):\n",
    "    maximo = lista[0]\n",
    "    for n in lista:\n",
    "        if n > maximo:\n",
    "            maximo = n    \n",
    "    return maximo\n",
    "\n",
    "\n",
    "# Llamada a la función\n",
    "numeros = [5, 8, 2, 10, 3]\n",
    "resultado_maximo = encontrar_maximo(numeros)\n",
    "print(resultado_maximo)  # Output: 10"
   ]
  },
  {
   "cell_type": "code",
   "execution_count": null,
   "metadata": {},
   "outputs": [],
   "source": []
  }
 ],
 "metadata": {
  "kernelspec": {
   "display_name": "Python 3",
   "language": "python",
   "name": "python3"
  },
  "language_info": {
   "codemirror_mode": {
    "name": "ipython",
    "version": 3
   },
   "file_extension": ".py",
   "mimetype": "text/x-python",
   "name": "python",
   "nbconvert_exporter": "python",
   "pygments_lexer": "ipython3",
   "version": "3.11.2"
  },
  "orig_nbformat": 4,
  "vscode": {
   "interpreter": {
    "hash": "b0fa6594d8f4cbf19f97940f81e996739fb7646882a419484c72d19e05852a7e"
   }
  }
 },
 "nbformat": 4,
 "nbformat_minor": 2
}
