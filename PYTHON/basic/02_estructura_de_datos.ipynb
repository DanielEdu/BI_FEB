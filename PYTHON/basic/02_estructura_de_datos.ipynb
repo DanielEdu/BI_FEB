{
 "cells": [
  {
   "attachments": {},
   "cell_type": "markdown",
   "metadata": {},
   "source": [
    "# Estructura de datos"
   ]
  },
  {
   "attachments": {},
   "cell_type": "markdown",
   "metadata": {},
   "source": [
    "## Listas\n",
    "\n",
    "En Python, una lista es una colección ordenada y mutable de elementos. \n",
    "Cada elemento en una lista se puede acceder a través de un índice único."
   ]
  },
  {
   "cell_type": "code",
   "execution_count": 2,
   "metadata": {},
   "outputs": [],
   "source": [
    "#Crear una lista\n",
    "frutas = ['manzana', 'banana', 'naranja', 'kiwi']\n",
    "numeros = [1, 2, 3, 4, 5]\n",
    "mixta = ['hola', 123, True, 3.14]"
   ]
  },
  {
   "cell_type": "code",
   "execution_count": 3,
   "metadata": {},
   "outputs": [
    {
     "name": "stdout",
     "output_type": "stream",
     "text": [
      "manzana\n",
      "kiwi\n",
      "naranja\n"
     ]
    }
   ],
   "source": [
    "# Acceder al primer elemento\n",
    "print(frutas[0])    # manzana\n",
    "\n",
    "# Acceder al último elemento\n",
    "print(frutas[-1])   # kiwi\n",
    "\n",
    "# Acceder al tercer elemento\n",
    "print(frutas[2])    # naranja"
   ]
  },
  {
   "cell_type": "code",
   "execution_count": 4,
   "metadata": {},
   "outputs": [],
   "source": [
    "# Modificación de elementos de una lista (CRUD):\n",
    "\n",
    "frutas = ['manzana', 'banana', 'naranja', 'kiwi']"
   ]
  },
  {
   "cell_type": "code",
   "execution_count": 5,
   "metadata": {},
   "outputs": [
    {
     "name": "stdout",
     "output_type": "stream",
     "text": [
      "['manzana', 'pera', 'naranja', 'kiwi']\n"
     ]
    }
   ],
   "source": [
    "# Modificar el segundo elemento\n",
    "frutas[1] = 'pera'\n",
    "print(frutas)       # ['manzana', 'pera', 'naranja', 'kiwi']"
   ]
  },
  {
   "cell_type": "code",
   "execution_count": 6,
   "metadata": {},
   "outputs": [
    {
     "name": "stdout",
     "output_type": "stream",
     "text": [
      "['manzana', 'pera', 'naranja', 'kiwi', 'mango']\n"
     ]
    }
   ],
   "source": [
    "# Agregar un elemento al final de la lista\n",
    "frutas.append('mango')\n",
    "print(frutas)       # ['manzana', 'pera', 'naranja', 'kiwi', 'mango']"
   ]
  },
  {
   "cell_type": "code",
   "execution_count": 7,
   "metadata": {},
   "outputs": [
    {
     "name": "stdout",
     "output_type": "stream",
     "text": [
      "['manzana', 'pera', 'limón', 'naranja', 'kiwi', 'mango']\n"
     ]
    }
   ],
   "source": [
    "# Insertar un elemento en una posición específica\n",
    "frutas.insert(2, 'limón')\n",
    "print(frutas)       # ['manzana', 'pera', 'limón', 'naranja', 'kiwi', 'mango']\n"
   ]
  },
  {
   "cell_type": "code",
   "execution_count": 8,
   "metadata": {},
   "outputs": [
    {
     "name": "stdout",
     "output_type": "stream",
     "text": [
      "['manzana', 'pera', 'naranja', 'kiwi', 'mango']\n"
     ]
    }
   ],
   "source": [
    "# Eliminar un elemento de la lista\n",
    "frutas.remove('limón')\n",
    "print(frutas)       # ['manzana', 'pera', 'naranja', 'kiwi', 'mango']"
   ]
  },
  {
   "cell_type": "code",
   "execution_count": 9,
   "metadata": {},
   "outputs": [
    {
     "name": "stdout",
     "output_type": "stream",
     "text": [
      "['manzana', 'pera', 'naranja', 'kiwi']\n"
     ]
    }
   ],
   "source": [
    "# Eliminar un elemento de la lista\n",
    "frutas.pop()\n",
    "print(frutas)       # ['manzana', 'pera', 'naranja', 'kiwi']"
   ]
  },
  {
   "cell_type": "code",
   "execution_count": 14,
   "metadata": {},
   "outputs": [],
   "source": [
    "# Operaciones con listas \n",
    "numeros = [1, 2, 3, 5, 4]"
   ]
  },
  {
   "cell_type": "code",
   "execution_count": 12,
   "metadata": {},
   "outputs": [
    {
     "name": "stdout",
     "output_type": "stream",
     "text": [
      "5\n"
     ]
    },
    {
     "data": {
      "text/plain": [
       "4"
      ]
     },
     "execution_count": 12,
     "metadata": {},
     "output_type": "execute_result"
    }
   ],
   "source": [
    "# Obtener la longitud de la lista\n",
    "print(len(numeros))  \n",
    "len(\"Hola\")       # 5"
   ]
  },
  {
   "cell_type": "code",
   "execution_count": 15,
   "metadata": {},
   "outputs": [
    {
     "name": "stdout",
     "output_type": "stream",
     "text": [
      "[1, 2, 3, 4, 5]\n"
     ]
    }
   ],
   "source": [
    "# Ordenar la lista en orden ascendente\n",
    "numeros.sort()\n",
    "print(numeros)              # [1, 2, 3, 4, 5]"
   ]
  },
  {
   "cell_type": "code",
   "execution_count": 16,
   "metadata": {},
   "outputs": [
    {
     "name": "stdout",
     "output_type": "stream",
     "text": [
      "[5, 4, 3, 2, 1]\n"
     ]
    }
   ],
   "source": [
    "# Ordenar la lista en orden descendente\n",
    "numeros.reverse()\n",
    "print(numeros)              # [5, 4, 3, 2, 1]"
   ]
  },
  {
   "cell_type": "code",
   "execution_count": 17,
   "metadata": {},
   "outputs": [
    {
     "name": "stdout",
     "output_type": "stream",
     "text": [
      "[5, 4, 3, 2, 1]\n"
     ]
    }
   ],
   "source": [
    "print(numeros) "
   ]
  },
  {
   "cell_type": "code",
   "execution_count": 18,
   "metadata": {},
   "outputs": [
    {
     "name": "stdout",
     "output_type": "stream",
     "text": [
      "15\n"
     ]
    }
   ],
   "source": [
    "# Obtener la suma de los elementos de la lista\n",
    "print(sum(numeros))         # 15"
   ]
  },
  {
   "cell_type": "code",
   "execution_count": 19,
   "metadata": {},
   "outputs": [
    {
     "name": "stdout",
     "output_type": "stream",
     "text": [
      "[5, 4, 3, 2, 1, 10, 11, 12, 13]\n"
     ]
    }
   ],
   "source": [
    "#fucionar listas\n",
    "print(numeros + [10,11,12,13])"
   ]
  },
  {
   "attachments": {},
   "cell_type": "markdown",
   "metadata": {},
   "source": [
    "*sobrecarga de operadores* (también conocido como sobrecarga de funciones o polimorfismo de operadores). La sobrecarga de operadores es una característica de algunos lenguajes de programación que permite que un operador tenga diferentes significados o comportamientos según el tipo de datos que se utilizan."
   ]
  },
  {
   "cell_type": "code",
   "execution_count": 21,
   "metadata": {},
   "outputs": [
    {
     "name": "stdout",
     "output_type": "stream",
     "text": [
      "['manzana', 'banana', 'pera']\n",
      "['naranja', 'kiwi']\n",
      "['banana', 'pera', 'naranja']\n"
     ]
    }
   ],
   "source": [
    "# Slicing\n",
    "frutas = ['manzana', 'banana','pera', 'naranja', 'kiwi']\n",
    "\n",
    "# Obtener los primeros tres elementos\n",
    "print(frutas[:3])           # ['manzana', 'banana', 'naranja']\n",
    "\n",
    "# Obtener los últimos dos elementos\n",
    "print(frutas[-2:])          # ['naranja', 'kiwi']\n",
    "\n",
    "# Obtener los elementos desde el segundo hasta el penúltimo\n",
    "print(frutas[1:-1])         # ['banana', 'naranja']"
   ]
  },
  {
   "cell_type": "code",
   "execution_count": null,
   "metadata": {},
   "outputs": [],
   "source": []
  }
 ],
 "metadata": {
  "kernelspec": {
   "display_name": "Python 3",
   "language": "python",
   "name": "python3"
  },
  "language_info": {
   "codemirror_mode": {
    "name": "ipython",
    "version": 3
   },
   "file_extension": ".py",
   "mimetype": "text/x-python",
   "name": "python",
   "nbconvert_exporter": "python",
   "pygments_lexer": "ipython3",
   "version": "3.11.2 (main, Feb 16 2023, 02:51:42) [Clang 14.0.0 (clang-1400.0.29.202)]"
  },
  "orig_nbformat": 4,
  "vscode": {
   "interpreter": {
    "hash": "b0fa6594d8f4cbf19f97940f81e996739fb7646882a419484c72d19e05852a7e"
   }
  }
 },
 "nbformat": 4,
 "nbformat_minor": 2
}
