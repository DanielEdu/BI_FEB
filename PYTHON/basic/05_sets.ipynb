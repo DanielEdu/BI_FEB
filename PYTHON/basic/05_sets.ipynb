{
 "cells": [
  {
   "attachments": {},
   "cell_type": "markdown",
   "metadata": {},
   "source": [
    "En Python, un conjunto (set) es una estructura de datos que almacena una colección desordenada y mutable de elementos únicos. \n",
    "Los conjuntos se utilizan cuando se necesita almacenar elementos sin duplicados y no se requiere un orden específico.\n",
    "\n",
    "Puedes definir un conjunto en Python utilizando llaves {} o la función built-in set(). \n",
    "Aquí tienes un ejemplo de cómo crear y trabajar con conjuntos:"
   ]
  },
  {
   "cell_type": "code",
   "execution_count": 1,
   "metadata": {},
   "outputs": [],
   "source": [
    "# Crear un conjunto\n",
    "frutas = {'manzana', 'banana', 'naranja'}"
   ]
  },
  {
   "cell_type": "code",
   "execution_count": 4,
   "metadata": {},
   "outputs": [
    {
     "data": {
      "text/plain": [
       "set"
      ]
     },
     "execution_count": 4,
     "metadata": {},
     "output_type": "execute_result"
    }
   ],
   "source": [
    "type(frutas)"
   ]
  },
  {
   "cell_type": "code",
   "execution_count": 5,
   "metadata": {},
   "outputs": [],
   "source": [
    "# Otra forma de crear un conjunto\n",
    "colores = set(['rojo', 'verde', 'azul'])"
   ]
  },
  {
   "cell_type": "code",
   "execution_count": 6,
   "metadata": {},
   "outputs": [
    {
     "data": {
      "text/plain": [
       "{'azul', 'rojo', 'verde'}"
      ]
     },
     "execution_count": 6,
     "metadata": {},
     "output_type": "execute_result"
    }
   ],
   "source": [
    "colores"
   ]
  },
  {
   "cell_type": "code",
   "execution_count": 7,
   "metadata": {},
   "outputs": [],
   "source": [
    "# Agregar elementos a un conjunto\n",
    "frutas.add('pera')"
   ]
  },
  {
   "cell_type": "code",
   "execution_count": 8,
   "metadata": {},
   "outputs": [
    {
     "data": {
      "text/plain": [
       "{'banana', 'manzana', 'naranja', 'pera'}"
      ]
     },
     "execution_count": 8,
     "metadata": {},
     "output_type": "execute_result"
    }
   ],
   "source": [
    "frutas"
   ]
  },
  {
   "cell_type": "code",
   "execution_count": 9,
   "metadata": {},
   "outputs": [],
   "source": [
    "# Agregar elementos a un conjunto\n",
    "frutas.add('banana')"
   ]
  },
  {
   "cell_type": "code",
   "execution_count": 10,
   "metadata": {},
   "outputs": [
    {
     "data": {
      "text/plain": [
       "{'banana', 'manzana', 'naranja', 'pera'}"
      ]
     },
     "execution_count": 10,
     "metadata": {},
     "output_type": "execute_result"
    }
   ],
   "source": [
    "frutas"
   ]
  },
  {
   "cell_type": "code",
   "execution_count": 11,
   "metadata": {},
   "outputs": [],
   "source": [
    "# Eliminar un elemento de un conjunto\n",
    "colores.remove('rojo')"
   ]
  },
  {
   "cell_type": "code",
   "execution_count": 12,
   "metadata": {},
   "outputs": [
    {
     "data": {
      "text/plain": [
       "{'azul', 'verde'}"
      ]
     },
     "execution_count": 12,
     "metadata": {},
     "output_type": "execute_result"
    }
   ],
   "source": [
    "colores"
   ]
  },
  {
   "cell_type": "code",
   "execution_count": 14,
   "metadata": {},
   "outputs": [],
   "source": [
    "# Verificar la existencia de un elemento en un conjunto\n",
    "if 'toronja' in frutas:\n",
    "    print(\"La manzana está en el conjunto de frutas\")"
   ]
  },
  {
   "cell_type": "code",
   "execution_count": 15,
   "metadata": {},
   "outputs": [
    {
     "name": "stdout",
     "output_type": "stream",
     "text": [
      "Número de frutas: 4\n"
     ]
    }
   ],
   "source": [
    "# Obtener la longitud de un conjunto\n",
    "num_frutas = len(frutas)\n",
    "print(\"Número de frutas:\", num_frutas)"
   ]
  },
  {
   "cell_type": "code",
   "execution_count": 16,
   "metadata": {},
   "outputs": [
    {
     "data": {
      "text/plain": [
       "{'banana', 'manzana', 'naranja', 'pera'}"
      ]
     },
     "execution_count": 16,
     "metadata": {},
     "output_type": "execute_result"
    }
   ],
   "source": [
    "frutas"
   ]
  },
  {
   "cell_type": "code",
   "execution_count": 17,
   "metadata": {},
   "outputs": [
    {
     "name": "stdout",
     "output_type": "stream",
     "text": [
      "manzana\n",
      "banana\n",
      "pera\n",
      "naranja\n"
     ]
    }
   ],
   "source": [
    "# Iterar sobre los elementos de un conjunto\n",
    "for fruta in frutas:\n",
    "    print(fruta)"
   ]
  },
  {
   "cell_type": "code",
   "execution_count": 18,
   "metadata": {},
   "outputs": [],
   "source": [
    "# Operaciones entre conjuntos\n",
    "conjunto1 = {1, 2, 3}\n",
    "conjunto2 = {3, 4, 5}"
   ]
  },
  {
   "cell_type": "code",
   "execution_count": 19,
   "metadata": {},
   "outputs": [
    {
     "name": "stdout",
     "output_type": "stream",
     "text": [
      "Unión: {1, 2, 3, 4, 5}\n"
     ]
    }
   ],
   "source": [
    "# Unión de conjuntos\n",
    "union = conjunto1.union(conjunto2)\n",
    "print(\"Unión:\", union)"
   ]
  },
  {
   "cell_type": "code",
   "execution_count": 20,
   "metadata": {},
   "outputs": [
    {
     "name": "stdout",
     "output_type": "stream",
     "text": [
      "Unión 2: {1, 2, 3, 4, 5}\n"
     ]
    }
   ],
   "source": [
    "union2 = conjunto1 | conjunto2\n",
    "print(\"Unión 2:\", union2)"
   ]
  },
  {
   "cell_type": "code",
   "execution_count": 21,
   "metadata": {},
   "outputs": [
    {
     "name": "stdout",
     "output_type": "stream",
     "text": [
      "Intersección: {3}\n"
     ]
    }
   ],
   "source": [
    "# Intersección de conjuntos\n",
    "interseccion = conjunto1.intersection(conjunto2)\n",
    "print(\"Intersección:\", interseccion)"
   ]
  },
  {
   "cell_type": "code",
   "execution_count": 22,
   "metadata": {},
   "outputs": [
    {
     "name": "stdout",
     "output_type": "stream",
     "text": [
      "Intersección 2: {3}\n"
     ]
    }
   ],
   "source": [
    "interseccion_2 = conjunto1 & conjunto2\n",
    "print(\"Intersección 2:\", interseccion_2)"
   ]
  },
  {
   "cell_type": "code",
   "execution_count": 23,
   "metadata": {},
   "outputs": [
    {
     "name": "stdout",
     "output_type": "stream",
     "text": [
      "Diferencia: {1, 2}\n"
     ]
    }
   ],
   "source": [
    "# Diferencia de conjuntos\n",
    "diferencia = conjunto1.difference(conjunto2)\n",
    "print(\"Diferencia:\", diferencia)"
   ]
  },
  {
   "cell_type": "code",
   "execution_count": 24,
   "metadata": {},
   "outputs": [
    {
     "name": "stdout",
     "output_type": "stream",
     "text": [
      "Diferencia: {1, 2}\n"
     ]
    }
   ],
   "source": [
    "diferencia_2 = conjunto1 - conjunto2\n",
    "print(\"Diferencia:\", diferencia_2)"
   ]
  },
  {
   "cell_type": "code",
   "execution_count": 25,
   "metadata": {},
   "outputs": [
    {
     "name": "stdout",
     "output_type": "stream",
     "text": [
      "Diferencia: {1, 2}\n"
     ]
    }
   ],
   "source": [
    "#diferencia sumetrica\n",
    "diferencia_simetrica = conjunto1.symmetric_difference(conjunto2)\n",
    "print(\"Diferencia:\", diferencia)"
   ]
  },
  {
   "cell_type": "code",
   "execution_count": 26,
   "metadata": {},
   "outputs": [
    {
     "name": "stdout",
     "output_type": "stream",
     "text": [
      "Diferencia: {1, 2}\n"
     ]
    }
   ],
   "source": [
    "diferencia_simetrica = conjunto1 ^ conjunto2\n",
    "print(\"Diferencia:\", diferencia)"
   ]
  },
  {
   "cell_type": "code",
   "execution_count": null,
   "metadata": {},
   "outputs": [],
   "source": []
  }
 ],
 "metadata": {
  "kernelspec": {
   "display_name": "Python 3",
   "language": "python",
   "name": "python3"
  },
  "language_info": {
   "codemirror_mode": {
    "name": "ipython",
    "version": 3
   },
   "file_extension": ".py",
   "mimetype": "text/x-python",
   "name": "python",
   "nbconvert_exporter": "python",
   "pygments_lexer": "ipython3",
   "version": "3.11.2"
  },
  "orig_nbformat": 4,
  "vscode": {
   "interpreter": {
    "hash": "b0fa6594d8f4cbf19f97940f81e996739fb7646882a419484c72d19e05852a7e"
   }
  }
 },
 "nbformat": 4,
 "nbformat_minor": 2
}
